{
  "cells": [
    {
      "cell_type": "markdown",
      "metadata": {
        "id": "view-in-github",
        "colab_type": "text"
      },
      "source": [
        "<a href=\"https://colab.research.google.com/github/sanvika15/nlp-lec2/blob/main/nlp_lec_2.ipynb\" target=\"_parent\"><img src=\"https://colab.research.google.com/assets/colab-badge.svg\" alt=\"Open In Colab\"/></a>"
      ]
    },
    {
      "cell_type": "code",
      "execution_count": null,
      "metadata": {
        "colab": {
          "background_save": true
        },
        "id": "xZeLGCOCMzyu"
      },
      "outputs": [],
      "source": [
        "import nltk #Installs the NLTK (Natural Language Toolkit) library, used for text processing in Python"
      ]
    },
    {
      "cell_type": "code",
      "execution_count": null,
      "metadata": {
        "colab": {
          "background_save": true
        },
        "id": "_wa1RpTSN0Su"
      },
      "outputs": [],
      "source": [
        "paragraph =\"\"\" Elon Reeve Musk (/ˈiːlɒn/ EE-lon; born June 28, 1971) is a businessman known for his leadership of Tesla, SpaceX, and X (formerly Twitter). Since 2025, he has been a senior advisor to United States president Donald Trump and the de facto head of the Department of Government Efficiency (DOGE). Musk has been considered the wealthiest person in the world since 2021; as of March 2025, Forbes estimates his net worth to be US$345 billion. He was named Time magazine's Person of the Year in 2021.\n",
        "\n",
        "Born to a wealthy family in Pretoria, South Africa, Musk emigrated in 1989 to Canada. He graduated from the University of Pennsylvania in the U.S. before moving to California to pursue business ventures. In 1995, Musk co-founded the software company Zip2. Following its sale in 1999, he co-founded X.com, an online payment company that later merged to form PayPal, which was acquired by eBay in 2002. That year, Musk also became a U.S. citizen.In 2002, Musk founded the space technology company SpaceX, becoming its CEO and chief engineer; the company has since led innovations in reusable rockets and commercial spaceflight. Musk joined the automaker Tesla as an early investor in 2004 and became its CEO and product architect in 2008; it has since become a leader in electric vehicles. In 2015, he co-founded OpenAI to advance artificial intelligence research but later left; growing discontent with the organization's direction in the 2020s led him to establish xAI. In 2022, he acquired the social network Twitter, implementing significant changes and rebranding it as X in 2023. In January 2025, he was appointed head of Trump's newly created DOGE. His other businesses include the neurotechnology company Neuralink, which he co-founded in 2016, and the tunneling company the Boring Company, which he founded in 2017.\"\"\""
      ]
    },
    {
      "cell_type": "code",
      "execution_count": null,
      "metadata": {
        "colab": {
          "background_save": true,
          "base_uri": "https://localhost:8080/"
        },
        "id": "29uVM_cjOoIO",
        "outputId": "42e49ba3-68a3-4d94-e39b-7c2e30e6bfe0"
      },
      "outputs": [
        {
          "name": "stderr",
          "output_type": "stream",
          "text": [
            "[nltk_data] Downloading package punkt_tab to /root/nltk_data...\n",
            "[nltk_data]   Package punkt_tab is already up-to-date!\n"
          ]
        }
      ],
      "source": [
        "import nltk\n",
        "from nltk.stem import PorterStemmer #PorterStemmer: Reduces words to their root form (e.g., running → run).\n",
        "from nltk.corpus import stopwords   #Common English words like \"the\", \"is\", etc., that don’t add much meaning\n",
        "nltk.download('punkt_tab')\n",
        "from nltk.tokenize import sent_tokenize, word_tokenize\n",
        "\n",
        "sentences = sent_tokenize(paragraph) #Splits paragraph into sentence\n",
        "words = word_tokenize(paragraph) #Splits paragraph into WORDS"
      ]
    },
    {
      "cell_type": "code",
      "execution_count": null,
      "metadata": {
        "colab": {
          "background_save": true,
          "base_uri": "https://localhost:8080/"
        },
        "id": "qu08CkixO0fb",
        "outputId": "01cf48ee-f46c-4bfb-e785-305f47e3aeec"
      },
      "outputs": [
        {
          "name": "stdout",
          "output_type": "stream",
          "text": [
            "[' Elon Reeve Musk (/ˈiːlɒn/ EE-lon; born June 28, 1971) is a businessman known for his leadership of Tesla, SpaceX, and X (formerly Twitter).', 'Since 2025, he has been a senior advisor to United States president Donald Trump and the de facto head of the Department of Government Efficiency (DOGE).', 'Musk has been considered the wealthiest person in the world since 2021; as of March 2025, Forbes estimates his net worth to be US$345 billion.', \"He was named Time magazine's Person of the Year in 2021.\", 'Born to a wealthy family in Pretoria, South Africa, Musk emigrated in 1989 to Canada.', 'He graduated from the University of Pennsylvania in the U.S. before moving to California to pursue business ventures.', 'In 1995, Musk co-founded the software company Zip2.', 'Following its sale in 1999, he co-founded X.com, an online payment company that later merged to form PayPal, which was acquired by eBay in 2002.', 'That year, Musk also became a U.S. citizen.In 2002, Musk founded the space technology company SpaceX, becoming its CEO and chief engineer; the company has since led innovations in reusable rockets and commercial spaceflight.', 'Musk joined the automaker Tesla as an early investor in 2004 and became its CEO and product architect in 2008; it has since become a leader in electric vehicles.', \"In 2015, he co-founded OpenAI to advance artificial intelligence research but later left; growing discontent with the organization's direction in the 2020s led him to establish xAI.\", 'In 2022, he acquired the social network Twitter, implementing significant changes and rebranding it as X in 2023.', \"In January 2025, he was appointed head of Trump's newly created DOGE.\", 'His other businesses include the neurotechnology company Neuralink, which he co-founded in 2016, and the tunneling company the Boring Company, which he founded in 2017.']\n"
          ]
        }
      ],
      "source": [
        "print(sentences)"
      ]
    },
    {
      "cell_type": "code",
      "execution_count": null,
      "metadata": {
        "colab": {
          "background_save": true,
          "base_uri": "https://localhost:8080/"
        },
        "id": "O3QMSLSEO05n",
        "outputId": "7681d518-28b0-476e-9090-22c0f4c80412"
      },
      "outputs": [
        {
          "name": "stdout",
          "output_type": "stream",
          "text": [
            "['Elon', 'Reeve', 'Musk', '(', '/ˈiːlɒn/', 'EE-lon', ';', 'born', 'June', '28', ',', '1971', ')', 'is', 'a', 'businessman', 'known', 'for', 'his', 'leadership', 'of', 'Tesla', ',', 'SpaceX', ',', 'and', 'X', '(', 'formerly', 'Twitter', ')', '.', 'Since', '2025', ',', 'he', 'has', 'been', 'a', 'senior', 'advisor', 'to', 'United', 'States', 'president', 'Donald', 'Trump', 'and', 'the', 'de', 'facto', 'head', 'of', 'the', 'Department', 'of', 'Government', 'Efficiency', '(', 'DOGE', ')', '.', 'Musk', 'has', 'been', 'considered', 'the', 'wealthiest', 'person', 'in', 'the', 'world', 'since', '2021', ';', 'as', 'of', 'March', '2025', ',', 'Forbes', 'estimates', 'his', 'net', 'worth', 'to', 'be', 'US', '$', '345', 'billion', '.', 'He', 'was', 'named', 'Time', 'magazine', \"'s\", 'Person', 'of', 'the', 'Year', 'in', '2021', '.', 'Born', 'to', 'a', 'wealthy', 'family', 'in', 'Pretoria', ',', 'South', 'Africa', ',', 'Musk', 'emigrated', 'in', '1989', 'to', 'Canada', '.', 'He', 'graduated', 'from', 'the', 'University', 'of', 'Pennsylvania', 'in', 'the', 'U.S.', 'before', 'moving', 'to', 'California', 'to', 'pursue', 'business', 'ventures', '.', 'In', '1995', ',', 'Musk', 'co-founded', 'the', 'software', 'company', 'Zip2', '.', 'Following', 'its', 'sale', 'in', '1999', ',', 'he', 'co-founded', 'X.com', ',', 'an', 'online', 'payment', 'company', 'that', 'later', 'merged', 'to', 'form', 'PayPal', ',', 'which', 'was', 'acquired', 'by', 'eBay', 'in', '2002', '.', 'That', 'year', ',', 'Musk', 'also', 'became', 'a', 'U.S.', 'citizen.In', '2002', ',', 'Musk', 'founded', 'the', 'space', 'technology', 'company', 'SpaceX', ',', 'becoming', 'its', 'CEO', 'and', 'chief', 'engineer', ';', 'the', 'company', 'has', 'since', 'led', 'innovations', 'in', 'reusable', 'rockets', 'and', 'commercial', 'spaceflight', '.', 'Musk', 'joined', 'the', 'automaker', 'Tesla', 'as', 'an', 'early', 'investor', 'in', '2004', 'and', 'became', 'its', 'CEO', 'and', 'product', 'architect', 'in', '2008', ';', 'it', 'has', 'since', 'become', 'a', 'leader', 'in', 'electric', 'vehicles', '.', 'In', '2015', ',', 'he', 'co-founded', 'OpenAI', 'to', 'advance', 'artificial', 'intelligence', 'research', 'but', 'later', 'left', ';', 'growing', 'discontent', 'with', 'the', 'organization', \"'s\", 'direction', 'in', 'the', '2020s', 'led', 'him', 'to', 'establish', 'xAI', '.', 'In', '2022', ',', 'he', 'acquired', 'the', 'social', 'network', 'Twitter', ',', 'implementing', 'significant', 'changes', 'and', 'rebranding', 'it', 'as', 'X', 'in', '2023', '.', 'In', 'January', '2025', ',', 'he', 'was', 'appointed', 'head', 'of', 'Trump', \"'s\", 'newly', 'created', 'DOGE', '.', 'His', 'other', 'businesses', 'include', 'the', 'neurotechnology', 'company', 'Neuralink', ',', 'which', 'he', 'co-founded', 'in', '2016', ',', 'and', 'the', 'tunneling', 'company', 'the', 'Boring', 'Company', ',', 'which', 'he', 'founded', 'in', '2017', '.']\n"
          ]
        }
      ],
      "source": [
        "print(words)"
      ]
    },
    {
      "cell_type": "code",
      "execution_count": null,
      "metadata": {
        "colab": {
          "background_save": true,
          "base_uri": "https://localhost:8080/"
        },
        "id": "8biBHEP5O3bV",
        "outputId": "1e5db027-1134-4398-f85d-420487942544"
      },
      "outputs": [
        {
          "name": "stderr",
          "output_type": "stream",
          "text": [
            "[nltk_data] Downloading package wordnet to /root/nltk_data...\n",
            "[nltk_data]   Package wordnet is already up-to-date!\n",
            "[nltk_data] Downloading package stopwords to /root/nltk_data...\n",
            "[nltk_data]   Package stopwords is already up-to-date!\n"
          ]
        }
      ],
      "source": [
        "stemmer = PorterStemmer()\n",
        "nltk.download('wordnet')\n",
        "nltk.download('stopwords')\n",
        "from nltk.stem import WordNetLemmatizer\n",
        "lemmatizer = WordNetLemmatizer()"
      ]
    },
    {
      "cell_type": "code",
      "execution_count": null,
      "metadata": {
        "colab": {
          "background_save": true
        },
        "id": "JjLomBz_PFiy"
      },
      "outputs": [],
      "source": [
        "import re\n",
        "# Text Preprocessing (Cleaning text) -Removes non-alphabet characters, converts to lowercase\n",
        "corpus = []\n",
        "for i in range(len(sentences)):\n",
        "  review = re.sub('[^a-zA-Z]',' ',sentences[i])\n",
        "  review = review .lower()\n",
        "  corpus.append(review)"
      ]
    },
    {
      "cell_type": "code",
      "execution_count": null,
      "metadata": {
        "colab": {
          "background_save": true
        },
        "id": "xpAWasIUPMTG"
      },
      "outputs": [],
      "source": [
        "## Remove Stopwords & Lemmatize - Removes words like \"is\", \"the\", \"an\", etc. and Applies lemmatization to each word and Stores clean sentences in corpus\n",
        "import re\n",
        "corpus =[]\n",
        "for i in range(len(sentences)):\n",
        "  review = re.sub('[^a-zA-Z]',' ',sentences[i])\n",
        "  review = review.lower()\n",
        "  review = review.split()\n",
        "  review = [lemmatizer.lemmatize(word) for word in review if not word in set(stopwords.words('english'))]\n",
        "  review = ' '.join(review)\n",
        "  corpus.append(review)"
      ]
    },
    {
      "cell_type": "code",
      "execution_count": null,
      "metadata": {
        "colab": {
          "background_save": true,
          "base_uri": "https://localhost:8080/"
        },
        "id": "6Joj_Ij2PNAU",
        "outputId": "69419e8d-f8c6-44d7-a436-7759d1240933"
      },
      "outputs": [
        {
          "data": {
            "text/plain": [
              "['elon reeve musk l n ee lon born june businessman known leadership tesla spacex x formerly twitter',\n",
              " 'since senior advisor united state president donald trump de facto head department government efficiency doge',\n",
              " 'musk considered wealthiest person world since march forbes estimate net worth u billion',\n",
              " 'named time magazine person year',\n",
              " 'born wealthy family pretoria south africa musk emigrated canada',\n",
              " 'graduated university pennsylvania u moving california pursue business venture',\n",
              " 'musk co founded software company zip',\n",
              " 'following sale co founded x com online payment company later merged form paypal acquired ebay',\n",
              " 'year musk also became u citizen musk founded space technology company spacex becoming ceo chief engineer company since led innovation reusable rocket commercial spaceflight',\n",
              " 'musk joined automaker tesla early investor became ceo product architect since become leader electric vehicle',\n",
              " 'co founded openai advance artificial intelligence research later left growing discontent organization direction led establish xai',\n",
              " 'acquired social network twitter implementing significant change rebranding x',\n",
              " 'january appointed head trump newly created doge',\n",
              " 'business include neurotechnology company neuralink co founded tunneling company boring company founded']"
            ]
          },
          "execution_count": 30,
          "metadata": {},
          "output_type": "execute_result"
        }
      ],
      "source": [
        "corpus"
      ]
    },
    {
      "cell_type": "code",
      "execution_count": null,
      "metadata": {
        "colab": {
          "background_save": true,
          "base_uri": "https://localhost:8080/"
        },
        "id": "spNTkzCDPQtk",
        "outputId": "d9c8baf6-8045-42e2-a5da-c7b8fc168881"
      },
      "outputs": [
        {
          "name": "stdout",
          "output_type": "stream",
          "text": [
            "elon\n",
            "reev\n",
            "musk\n",
            "l\n",
            "n\n",
            "ee\n",
            "lon\n",
            "born\n",
            "june\n",
            "businessman\n",
            "known\n",
            "leadership\n",
            "tesla\n",
            "spacex\n",
            "x\n",
            "formerli\n",
            "twitter\n",
            "sinc\n",
            "senior\n",
            "advisor\n",
            "unit\n",
            "state\n",
            "presid\n",
            "donald\n",
            "trump\n",
            "de\n",
            "facto\n",
            "head\n",
            "depart\n",
            "govern\n",
            "effici\n",
            "doge\n",
            "musk\n",
            "consid\n",
            "wealthiest\n",
            "person\n",
            "world\n",
            "sinc\n",
            "march\n",
            "forb\n",
            "estim\n",
            "net\n",
            "worth\n",
            "u\n",
            "billion\n",
            "name\n",
            "time\n",
            "magazin\n",
            "person\n",
            "year\n",
            "born\n",
            "wealthi\n",
            "famili\n",
            "pretoria\n",
            "south\n",
            "africa\n",
            "musk\n",
            "emigr\n",
            "canada\n",
            "graduat\n",
            "univers\n",
            "pennsylvania\n",
            "u\n",
            "move\n",
            "california\n",
            "pursu\n",
            "busi\n",
            "ventur\n",
            "musk\n",
            "co\n",
            "found\n",
            "softwar\n",
            "compani\n",
            "zip\n",
            "follow\n",
            "sale\n",
            "co\n",
            "found\n",
            "x\n",
            "com\n",
            "onlin\n",
            "payment\n",
            "compani\n",
            "later\n",
            "merg\n",
            "form\n",
            "paypal\n",
            "acquir\n",
            "ebay\n",
            "year\n",
            "musk\n",
            "also\n",
            "becam\n",
            "u\n",
            "citizen\n",
            "musk\n",
            "found\n",
            "space\n",
            "technolog\n",
            "compani\n",
            "spacex\n",
            "becom\n",
            "ceo\n",
            "chief\n",
            "engin\n",
            "compani\n",
            "sinc\n",
            "led\n",
            "innov\n",
            "reusabl\n",
            "rocket\n",
            "commerci\n",
            "spaceflight\n",
            "musk\n",
            "join\n",
            "automak\n",
            "tesla\n",
            "earli\n",
            "investor\n",
            "becam\n",
            "ceo\n",
            "product\n",
            "architect\n",
            "sinc\n",
            "becom\n",
            "leader\n",
            "electr\n",
            "vehicl\n",
            "co\n",
            "found\n",
            "openai\n",
            "advanc\n",
            "artifici\n",
            "intellig\n",
            "research\n",
            "later\n",
            "left\n",
            "grow\n",
            "discont\n",
            "organ\n",
            "direct\n",
            "led\n",
            "establish\n",
            "xai\n",
            "acquir\n",
            "social\n",
            "network\n",
            "twitter\n",
            "implement\n",
            "signific\n",
            "chang\n",
            "rebrand\n",
            "x\n",
            "januari\n",
            "appoint\n",
            "head\n",
            "trump\n",
            "newli\n",
            "creat\n",
            "doge\n",
            "busi\n",
            "includ\n",
            "neurotechnolog\n",
            "compani\n",
            "neuralink\n",
            "co\n",
            "found\n",
            "tunnel\n",
            "compani\n",
            "bore\n",
            "compani\n",
            "found\n"
          ]
        }
      ],
      "source": [
        "## Stemming Corpus Words (not effective due to a bug)\n",
        "for i in corpus:\n",
        "  words = nltk.word_tokenize(i)\n",
        "  for word in words:\n",
        "    if word not in set(stopwords.words('english')):\n",
        "      print(stemmer.stem(word))\n"
      ]
    },
    {
      "cell_type": "code",
      "execution_count": null,
      "metadata": {
        "colab": {
          "background_save": true,
          "base_uri": "https://localhost:8080/"
        },
        "id": "evBI_AOsPirY",
        "outputId": "2ace8ef7-8c94-43bb-a7d5-4249988b1897"
      },
      "outputs": [
        {
          "name": "stdout",
          "output_type": "stream",
          "text": [
            "elon\n",
            "reeve\n",
            "musk\n",
            "l\n",
            "n\n",
            "ee\n",
            "lon\n",
            "born\n",
            "june\n",
            "businessman\n",
            "known\n",
            "leadership\n",
            "tesla\n",
            "spacex\n",
            "x\n",
            "formerly\n",
            "twitter\n",
            "since\n",
            "senior\n",
            "advisor\n",
            "united\n",
            "state\n",
            "president\n",
            "donald\n",
            "trump\n",
            "de\n",
            "facto\n",
            "head\n",
            "department\n",
            "government\n",
            "efficiency\n",
            "doge\n",
            "musk\n",
            "considered\n",
            "wealthiest\n",
            "person\n",
            "world\n",
            "since\n",
            "march\n",
            "forbes\n",
            "estimate\n",
            "net\n",
            "worth\n",
            "u\n",
            "billion\n",
            "named\n",
            "time\n",
            "magazine\n",
            "person\n",
            "year\n",
            "born\n",
            "wealthy\n",
            "family\n",
            "pretoria\n",
            "south\n",
            "africa\n",
            "musk\n",
            "emigrated\n",
            "canada\n",
            "graduated\n",
            "university\n",
            "pennsylvania\n",
            "u\n",
            "moving\n",
            "california\n",
            "pursue\n",
            "business\n",
            "venture\n",
            "musk\n",
            "co\n",
            "founded\n",
            "software\n",
            "company\n",
            "zip\n",
            "following\n",
            "sale\n",
            "co\n",
            "founded\n",
            "x\n",
            "com\n",
            "online\n",
            "payment\n",
            "company\n",
            "later\n",
            "merged\n",
            "form\n",
            "paypal\n",
            "acquired\n",
            "ebay\n",
            "year\n",
            "musk\n",
            "also\n",
            "became\n",
            "u\n",
            "citizen\n",
            "musk\n",
            "founded\n",
            "space\n",
            "technology\n",
            "company\n",
            "spacex\n",
            "becoming\n",
            "ceo\n",
            "chief\n",
            "engineer\n",
            "company\n",
            "since\n",
            "led\n",
            "innovation\n",
            "reusable\n",
            "rocket\n",
            "commercial\n",
            "spaceflight\n",
            "musk\n",
            "joined\n",
            "automaker\n",
            "tesla\n",
            "early\n",
            "investor\n",
            "became\n",
            "ceo\n",
            "product\n",
            "architect\n",
            "since\n",
            "become\n",
            "leader\n",
            "electric\n",
            "vehicle\n",
            "co\n",
            "founded\n",
            "openai\n",
            "advance\n",
            "artificial\n",
            "intelligence\n",
            "research\n",
            "later\n",
            "left\n",
            "growing\n",
            "discontent\n",
            "organization\n",
            "direction\n",
            "led\n",
            "establish\n",
            "xai\n",
            "acquired\n",
            "social\n",
            "network\n",
            "twitter\n",
            "implementing\n",
            "significant\n",
            "change\n",
            "rebranding\n",
            "x\n",
            "january\n",
            "appointed\n",
            "head\n",
            "trump\n",
            "newly\n",
            "created\n",
            "doge\n",
            "business\n",
            "include\n",
            "neurotechnology\n",
            "company\n",
            "neuralink\n",
            "co\n",
            "founded\n",
            "tunneling\n",
            "company\n",
            "boring\n",
            "company\n",
            "founded\n"
          ]
        }
      ],
      "source": [
        "## lemmatization\n",
        "for i in corpus:\n",
        "  words = nltk.word_tokenize(i)\n",
        "  for word in words:\n",
        "    if word not in set(stopwords.words('english')):\n",
        "      print(lemmatizer.lemmatize(word))\n",
        "\n"
      ]
    },
    {
      "cell_type": "markdown",
      "metadata": {
        "id": "MKth_AyMRJro"
      },
      "source": [
        "# Bag of Words (BoW)"
      ]
    },
    {
      "cell_type": "code",
      "execution_count": null,
      "metadata": {
        "colab": {
          "background_save": true
        },
        "id": "V_BsV6f6QLjQ"
      },
      "outputs": [],
      "source": [
        "# Bag of Words (BoW) with CountVectorizer\n",
        " #BoW model: Converts cleaned text into numbers (frequency of each word).\n",
        " #vocabulary_: Shows word-to-index mapping like {'modi': 54, 'gujarat': 34, ...}.\n",
        "from sklearn.feature_extraction.text import CountVectorizer\n",
        "cv=CountVectorizer()"
      ]
    },
    {
      "cell_type": "code",
      "execution_count": null,
      "metadata": {
        "colab": {
          "background_save": true
        },
        "id": "b70PLtTkQMc8"
      },
      "outputs": [],
      "source": [
        "X =cv.fit_transform(corpus)"
      ]
    },
    {
      "cell_type": "code",
      "execution_count": null,
      "metadata": {
        "colab": {
          "background_save": true,
          "base_uri": "https://localhost:8080/"
        },
        "id": "-JhIhi43QOhV",
        "outputId": "7c3dbb80-5a62-4786-83d2-4edb01787a7f"
      },
      "outputs": [
        {
          "data": {
            "text/plain": [
              "{'elon': 40,\n",
              " 'reeve': 94,\n",
              " 'musk': 75,\n",
              " 'ee': 37,\n",
              " 'lon': 70,\n",
              " 'born': 14,\n",
              " 'june': 63,\n",
              " 'businessman': 16,\n",
              " 'known': 64,\n",
              " 'leadership': 67,\n",
              " 'tesla': 110,\n",
              " 'spacex': 107,\n",
              " 'formerly': 50,\n",
              " 'twitter': 114,\n",
              " 'since': 101,\n",
              " 'senior': 99,\n",
              " 'advisor': 2,\n",
              " 'united': 115,\n",
              " 'state': 108,\n",
              " 'president': 89,\n",
              " 'donald': 34,\n",
              " 'trump': 112,\n",
              " 'de': 29,\n",
              " 'facto': 45,\n",
              " 'head': 55,\n",
              " 'department': 30,\n",
              " 'government': 52,\n",
              " 'efficiency': 38,\n",
              " 'doge': 33,\n",
              " 'considered': 27,\n",
              " 'wealthiest': 119,\n",
              " 'person': 88,\n",
              " 'world': 121,\n",
              " 'march': 72,\n",
              " 'forbes': 48,\n",
              " 'estimate': 44,\n",
              " 'net': 77,\n",
              " 'worth': 122,\n",
              " 'billion': 12,\n",
              " 'named': 76,\n",
              " 'time': 111,\n",
              " 'magazine': 71,\n",
              " 'year': 124,\n",
              " 'wealthy': 120,\n",
              " 'family': 46,\n",
              " 'pretoria': 90,\n",
              " 'south': 104,\n",
              " 'africa': 3,\n",
              " 'emigrated': 41,\n",
              " 'canada': 18,\n",
              " 'graduated': 53,\n",
              " 'university': 116,\n",
              " 'pennsylvania': 87,\n",
              " 'moving': 74,\n",
              " 'california': 17,\n",
              " 'pursue': 92,\n",
              " 'business': 15,\n",
              " 'venture': 118,\n",
              " 'co': 23,\n",
              " 'founded': 51,\n",
              " 'software': 103,\n",
              " 'company': 26,\n",
              " 'zip': 125,\n",
              " 'following': 47,\n",
              " 'sale': 98,\n",
              " 'com': 24,\n",
              " 'online': 82,\n",
              " 'payment': 85,\n",
              " 'later': 65,\n",
              " 'merged': 73,\n",
              " 'form': 49,\n",
              " 'paypal': 86,\n",
              " 'acquired': 0,\n",
              " 'ebay': 36,\n",
              " 'also': 4,\n",
              " 'became': 9,\n",
              " 'citizen': 22,\n",
              " 'space': 105,\n",
              " 'technology': 109,\n",
              " 'becoming': 11,\n",
              " 'ceo': 19,\n",
              " 'chief': 21,\n",
              " 'engineer': 42,\n",
              " 'led': 68,\n",
              " 'innovation': 58,\n",
              " 'reusable': 96,\n",
              " 'rocket': 97,\n",
              " 'commercial': 25,\n",
              " 'spaceflight': 106,\n",
              " 'joined': 62,\n",
              " 'automaker': 8,\n",
              " 'early': 35,\n",
              " 'investor': 60,\n",
              " 'product': 91,\n",
              " 'architect': 6,\n",
              " 'become': 10,\n",
              " 'leader': 66,\n",
              " 'electric': 39,\n",
              " 'vehicle': 117,\n",
              " 'openai': 83,\n",
              " 'advance': 1,\n",
              " 'artificial': 7,\n",
              " 'intelligence': 59,\n",
              " 'research': 95,\n",
              " 'left': 69,\n",
              " 'growing': 54,\n",
              " 'discontent': 32,\n",
              " 'organization': 84,\n",
              " 'direction': 31,\n",
              " 'establish': 43,\n",
              " 'xai': 123,\n",
              " 'social': 102,\n",
              " 'network': 78,\n",
              " 'implementing': 56,\n",
              " 'significant': 100,\n",
              " 'change': 20,\n",
              " 'rebranding': 93,\n",
              " 'january': 61,\n",
              " 'appointed': 5,\n",
              " 'newly': 81,\n",
              " 'created': 28,\n",
              " 'include': 57,\n",
              " 'neurotechnology': 80,\n",
              " 'neuralink': 79,\n",
              " 'tunneling': 113,\n",
              " 'boring': 13}"
            ]
          },
          "execution_count": 35,
          "metadata": {},
          "output_type": "execute_result"
        }
      ],
      "source": [
        "cv.vocabulary_"
      ]
    },
    {
      "cell_type": "code",
      "execution_count": null,
      "metadata": {
        "colab": {
          "background_save": true,
          "base_uri": "https://localhost:8080/",
          "height": 35
        },
        "id": "Bpi02wXGQRBH",
        "outputId": "5df88f05-319d-42e5-ddc4-bed1f00d34f9"
      },
      "outputs": [
        {
          "data": {
            "application/vnd.google.colaboratory.intrinsic+json": {
              "type": "string"
            },
            "text/plain": [
              "'elon reeve musk l n ee lon born june businessman known leadership tesla spacex x formerly twitter'"
            ]
          },
          "execution_count": 36,
          "metadata": {},
          "output_type": "execute_result"
        }
      ],
      "source": [
        "corpus[0]"
      ]
    },
    {
      "cell_type": "code",
      "execution_count": null,
      "metadata": {
        "colab": {
          "background_save": true,
          "base_uri": "https://localhost:8080/"
        },
        "id": "UfJNUb8eQYKD",
        "outputId": "f5a600aa-c9d4-4aab-9f1b-ebf42aecc442"
      },
      "outputs": [
        {
          "data": {
            "text/plain": [
              "array([[0, 0, 0, 0, 0, 0, 0, 0, 0, 0, 0, 0, 0, 0, 1, 0, 1, 0, 0, 0, 0, 0,\n",
              "        0, 0, 0, 0, 0, 0, 0, 0, 0, 0, 0, 0, 0, 0, 0, 1, 0, 0, 1, 0, 0, 0,\n",
              "        0, 0, 0, 0, 0, 0, 1, 0, 0, 0, 0, 0, 0, 0, 0, 0, 0, 0, 0, 1, 1, 0,\n",
              "        0, 1, 0, 0, 1, 0, 0, 0, 0, 1, 0, 0, 0, 0, 0, 0, 0, 0, 0, 0, 0, 0,\n",
              "        0, 0, 0, 0, 0, 0, 1, 0, 0, 0, 0, 0, 0, 0, 0, 0, 0, 0, 0, 1, 0, 0,\n",
              "        1, 0, 0, 0, 1, 0, 0, 0, 0, 0, 0, 0, 0, 0, 0, 0]])"
            ]
          },
          "execution_count": 37,
          "metadata": {},
          "output_type": "execute_result"
        }
      ],
      "source": [
        "# Vector Representation of First Sentence\n",
        "X[0].toarray() #Shows word counts in vector form for the first sentence."
      ]
    },
    {
      "cell_type": "markdown",
      "metadata": {
        "id": "TDoLOkBESKEb"
      },
      "source": [
        "# TF-IDF"
      ]
    },
    {
      "cell_type": "code",
      "execution_count": null,
      "metadata": {
        "colab": {
          "background_save": true
        },
        "id": "A568VMryQeHV"
      },
      "outputs": [],
      "source": [
        "from sklearn.feature_extraction.text import TfidfVectorizer\n",
        "cv = TfidfVectorizer()\n",
        "X = cv.fit_transform(corpus)"
      ]
    },
    {
      "cell_type": "code",
      "execution_count": null,
      "metadata": {
        "colab": {
          "background_save": true,
          "base_uri": "https://localhost:8080/",
          "height": 35
        },
        "id": "O-kFsxKJSzEC",
        "outputId": "ab8036e2-28a5-48ea-8819-a4f25c4bfa21"
      },
      "outputs": [
        {
          "data": {
            "application/vnd.google.colaboratory.intrinsic+json": {
              "type": "string"
            },
            "text/plain": [
              "'elon reeve musk l n ee lon born june businessman known leadership tesla spacex x formerly twitter'"
            ]
          },
          "execution_count": 48,
          "metadata": {},
          "output_type": "execute_result"
        }
      ],
      "source": [
        "corpus[0]"
      ]
    },
    {
      "cell_type": "code",
      "execution_count": 50,
      "metadata": {
        "colab": {
          "base_uri": "https://localhost:8080/"
        },
        "id": "URTBpVenTA-_",
        "outputId": "f2e10a95-e633-4356-8e89-a4c70bd39373"
      },
      "outputs": [
        {
          "output_type": "execute_result",
          "data": {
            "text/plain": [
              "array([[0., 0., 0., 0., 0., 0., 0., 0., 1., 0.]])"
            ]
          },
          "metadata": {},
          "execution_count": 50
        }
      ],
      "source": [
        "X[0].toarray()"
      ]
    },
    {
      "cell_type": "code",
      "source": [],
      "metadata": {
        "id": "_nozbVVZpx_w"
      },
      "execution_count": null,
      "outputs": []
    }
  ],
  "metadata": {
    "colab": {
      "provenance": [],
      "authorship_tag": "ABX9TyPb19beqLrTKOp6QZrBRh7L",
      "include_colab_link": true
    },
    "kernelspec": {
      "display_name": "Python 3",
      "name": "python3"
    },
    "language_info": {
      "name": "python"
    }
  },
  "nbformat": 4,
  "nbformat_minor": 0
}